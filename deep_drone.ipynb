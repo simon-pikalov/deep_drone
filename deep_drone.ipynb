{
  "nbformat": 4,
  "nbformat_minor": 0,
  "metadata": {
    "accelerator": "GPU",
    "colab": {
      "name": "deep_drone",
      "provenance": [],
      "toc_visible": true
    },
    "kernelspec": {
      "display_name": "Python 3",
      "name": "python3"
    }
  },
  "cells": [
    {
      "cell_type": "markdown",
      "metadata": {
        "id": "GGaXEEj1583q"
      },
      "source": [
        "# Deep Drone "
      ]
    },
    {
      "cell_type": "code",
      "metadata": {
        "colab": {
          "base_uri": "https://localhost:8080/"
        },
        "id": "R9ziKKeDun6A",
        "outputId": "e966c305-e96c-4abf-ff65-075ceb4e0f34"
      },
      "source": [
        "%tensorflow_version 1.14  # this line is required for a notebook\n",
        "import tensorflow as tf\n",
        "import pandas as pd\n",
        "import numpy as np\n",
        "from IPython.display import HTML\n",
        "from matplotlib import pyplot as plt "
      ],
      "execution_count": 15,
      "outputs": [
        {
          "output_type": "stream",
          "text": [
            "`%tensorflow_version` only switches the major version: 1.x or 2.x.\n",
            "You set: `1.14  # this line is required for a notebook`. This will be interpreted as: `1.x`.\n",
            "\n",
            "\n",
            "TensorFlow is already loaded. Please restart the runtime to change versions.\n"
          ],
          "name": "stdout"
        }
      ]
    },
    {
      "cell_type": "markdown",
      "metadata": {
        "id": "ALcfVAy75fFU"
      },
      "source": [
        "# Intoduction \r\n",
        "Airsim\tis\ta\tsimulator\tfor\tdrones,\tcars\tand\tmore,\tbuilt\ton\tUnreal\tEngine.\tIt\tis\topensource,\tcross\tplatform,\tand\tsupports\thardware-in-loop\twith\tpopular\tflight\tcontrollers\tsuch\t\r\n",
        "as\tPX4\tfor\tphysically\tand\tvisually\trealistic\tsimulations.\tIt\tis\tdeveloped\tas\tan\tUnreal\t\r\n",
        "plugin\tthat\tcan\tsimply\tbe\tdropped\tinto\tany\tUnreal\tenvironment.\tAirsim's\tgoal\tis\tto\t\r\n",
        "develop\tAirSim\tas\ta\tplatform\tfor\tAI\tresearch\tto\texperiment\twith\tdeep\tlearning,\tcomputer\t\r\n",
        "vision\tand\treinforcement\tlearning\talgorithms\tfor\tautonomous\tvehicles.\tFor\tthis\tpurpose,\t\r\n",
        "AirSim\talso\texposes\tAPIs\tto\tretrieve\tdata\tand\tcontrol\tvehicles\tin\ta\tplatform\tindependent\t\r\n",
        "way.\t\r\n",
        "\r\n",
        "\r\n"
      ]
    },
    {
      "cell_type": "code",
      "metadata": {
        "colab": {
          "base_uri": "https://localhost:8080/",
          "height": 724
        },
        "id": "0PBOdv3T7Kie",
        "outputId": "243d41ae-3a0b-446b-c1e5-317fb609a3e4"
      },
      "source": [
        "\r\n",
        "\r\n",
        "HTML('<iframe width=\"1250\" height=\"703\" src=\"https://www.youtube.com/embed/8g3Wo9dBc7I\" frameborder=\"0\" allow=\"accelerometer; autoplay; clipboard-write; encrypted-media; gyroscope; picture-in-picture\" allowfullscreen></iframe>')"
      ],
      "execution_count": 16,
      "outputs": [
        {
          "output_type": "execute_result",
          "data": {
            "text/html": [
              "<iframe width=\"1250\" height=\"703\" src=\"https://www.youtube.com/embed/8g3Wo9dBc7I\" frameborder=\"0\" allow=\"accelerometer; autoplay; clipboard-write; encrypted-media; gyroscope; picture-in-picture\" allowfullscreen></iframe>"
            ],
            "text/plain": [
              "<IPython.core.display.HTML object>"
            ]
          },
          "metadata": {
            "tags": []
          },
          "execution_count": 16
        }
      ]
    },
    {
      "cell_type": "markdown",
      "metadata": {
        "id": "ocCobvx78Drs"
      },
      "source": [
        "#The\tChallenge\r\n",
        "\r\n",
        "We\twant\tto\tfly\ta\tdrone\tautonomously\tand\twithout\tGPS.\tfor\tthat\twe\tmade\ta\tdiffrent\r\n",
        "algorithm's\tsuch\tas\tfly\tclose\tto\tone\twall\t;\tfly\tclose\tto\ttwo\twalls\t,\thover\t,\temergency\r\n",
        "break\t;\tand\tmore\t,\tthe\tML\tpart\tis\tto\tchoose\tthe\tright\talgorithm\tfor\tthe\tcurrent\tsituation.\r\n",
        "that\tis\ta\tclassification\tproblem\tto\tclassify\tthe\twanted\tstate\tbased\ton\tthe\tlidars\tdata."
      ]
    },
    {
      "cell_type": "markdown",
      "metadata": {
        "id": "u0GV2iqi-1Z0"
      },
      "source": [
        "# The Data\r\n",
        "\r\n",
        "The\tdata\tis\ta\tlog\tfile\tfrom\tthe\tdrone\tthat\tcontains\tthe\tdrone\ttelemetry\tand\tthe\tlidars\r\n",
        "(ranges\tto\tdifferent\tdirections\t)\tand\tthe\twanted\tstate\tthat\thuman\tchoose\tby\tvision\tfor\r\n",
        "the\tcurrent\tsituation.\r\n",
        "The\tData example\t:\r\n",
        "notice\tthat\tthe\tmost\tright\tcolumn\tis\tthe\tone\twe\twant\tto\tpredict.\r\n",
        "\r\n",
        "# Show how the data was created.\r\n",
        "![alt text](https://github.com/simon-pikalov/deep_drone/blob/main/photo/data_gen.png?raw=true)\r\n",
        "\r\n",
        "# Data sample\r\n",
        "\r\n",
        "![alt text](https://github.com/simon-pikalov/deep_drone/blob/main/photo/data_vis.png?raw=true)\r\n",
        "\r\n"
      ]
    },
    {
      "cell_type": "markdown",
      "metadata": {
        "id": "eBNzcqML_90m"
      },
      "source": [
        "# Load the data\r\n"
      ]
    },
    {
      "cell_type": "code",
      "metadata": {
        "colab": {
          "base_uri": "https://localhost:8080/"
        },
        "id": "jnHVGXe-vljM",
        "outputId": "92687b8a-5a0d-4703-a702-e1332f9c4ae8"
      },
      "source": [
        "!wget https://raw.githubusercontent.com/simon-pikalov/deep_drone/main/comb.csv # download the csv data "
      ],
      "execution_count": 17,
      "outputs": [
        {
          "output_type": "stream",
          "text": [
            "--2020-12-17 10:56:42--  https://raw.githubusercontent.com/simon-pikalov/deep_drone/main/comb.csv\n",
            "Resolving raw.githubusercontent.com (raw.githubusercontent.com)... 151.101.0.133, 151.101.64.133, 151.101.128.133, ...\n",
            "Connecting to raw.githubusercontent.com (raw.githubusercontent.com)|151.101.0.133|:443... connected.\n",
            "HTTP request sent, awaiting response... 200 OK\n",
            "Length: 1481669 (1.4M) [text/plain]\n",
            "Saving to: ‘comb.csv.2’\n",
            "\n",
            "\rcomb.csv.2            0%[                    ]       0  --.-KB/s               \rcomb.csv.2          100%[===================>]   1.41M  --.-KB/s    in 0.04s   \n",
            "\n",
            "2020-12-17 10:56:42 (33.3 MB/s) - ‘comb.csv.2’ saved [1481669/1481669]\n",
            "\n"
          ],
          "name": "stdout"
        }
      ]
    },
    {
      "cell_type": "markdown",
      "metadata": {
        "id": "yIgqxKsEACJT"
      },
      "source": [
        "# Helping functions "
      ]
    },
    {
      "cell_type": "code",
      "metadata": {
        "id": "IhxI5kXp4vN_"
      },
      "source": [
        "def split_train_test(data, div=0.8):\r\n",
        "    xdim = data.shape[0]\r\n",
        "    split = int(xdim * div)\r\n",
        "    train = data[:split]\r\n",
        "    test = data[split:]\r\n",
        "    return train, test\r\n",
        "\r\n",
        "\r\n",
        "def show_progress(i):\r\n",
        "    loss = cross_entropy.eval(session=sess, feed_dict={x: train_data, y_: train_states})\r\n",
        "    print('Iteration:', i, ' loss:',loss)"
      ],
      "execution_count": 18,
      "outputs": []
    },
    {
      "cell_type": "markdown",
      "metadata": {
        "id": "WcHZB3uABJr6"
      },
      "source": [
        "#Softmax with no hidden layers, for compression"
      ]
    },
    {
      "cell_type": "code",
      "metadata": {
        "colab": {
          "base_uri": "https://localhost:8080/",
          "height": 1000
        },
        "id": "uiobmAWX4O20",
        "outputId": "a1f6348a-ee1d-41c6-b739-86afcee6ea49"
      },
      "source": [
        "\r\n",
        "file_name = \"comb.csv\"\r\n",
        "loss_list =[]\r\n",
        "\r\n",
        "all_data_list = [\"VX\", \"VY\", \"Range_Front\",\"Range_Right\",\"Range_Left\",\"State\"]  # define columns to read  from csv TODO add left\r\n",
        "feature_list = [\"VX\", \"VY\", \"Range_Front\", \"Range_Right\", \"Range_Left\"]\r\n",
        "predict_list = [\"State\"]\r\n",
        "\r\n",
        "df_data = pd.read_csv(file_name, usecols=all_data_list)  # read the collums from the defind col_list\r\n",
        "df_data = df_data.sample(frac=1) # random the rows\r\n",
        "one_hot_state = pd.get_dummies(df_data[\"State\"])  # transform the data to be predicted to one hot\r\n",
        "state = one_hot_state.to_numpy()  # make a numpy array of states\r\n",
        "feature = df_data[feature_list]\r\n",
        "\r\n",
        "\r\n",
        "\r\n",
        "print(df_data)\r\n",
        "\r\n",
        "(train_data, test_data) = split_train_test(feature)\r\n",
        "(train_states,test_states) = split_train_test(state)\r\n",
        "\r\n",
        "# front_arr = np.array([front]) if i wont ro predict by one line only need to convert it to a 2d array\r\n",
        "\r\n",
        "labels_amount =  len(state[0]) # the amount of labels , to be predicted\r\n",
        "features_amount = len(feature_list) # The amount of data that the prediction is going to be made on (raw data)\r\n",
        "learing_rate = 0.0009\r\n",
        "\r\n",
        "#learing_rate = 0.00005\r\n",
        "\r\n",
        "\r\n",
        "x = tf.placeholder(tf.float32, (None, features_amount))\r\n",
        "y_ = tf.placeholder(tf.float32, (None, labels_amount))\r\n",
        "W = tf.Variable(tf.zeros((features_amount, labels_amount)))\r\n",
        "b = tf.Variable(tf.zeros((labels_amount)))  # TODO change it to tf.random.uniform\r\n",
        "y = tf.nn.softmax(tf.matmul(x, W) + b)\r\n",
        "\r\n",
        "cross_entropy = tf.reduce_mean(-tf.reduce_sum(y_ * tf.log(y), reduction_indices=[1]))\r\n",
        "\r\n",
        "#loss = tf.reduce_mean(tf.nn.softmax_cross_entropy_with_logits_v2(labels=y_, logits=x)) #TODO try this\r\n",
        "\r\n",
        "train_step = tf.train.GradientDescentOptimizer(learing_rate).minimize(cross_entropy)\r\n",
        "init = tf.global_variables_initializer()\r\n",
        "sess = tf.Session()\r\n",
        "sess.run(init)\r\n",
        "\r\n",
        "\r\n",
        "# good values itr = 100000 ,learing_rate = 0.0009\r\n",
        "\r\n",
        "\r\n",
        "for i in range(5000):\r\n",
        "    loss = cross_entropy.eval(session=sess, feed_dict={x: train_data, y_: train_states})\r\n",
        "    sess.run(train_step, feed_dict={x: train_data, y_: train_states})  # BGD\r\n",
        "    loss_list.append(loss)\r\n",
        "    if i %100 ==0 :\r\n",
        "        show_progress(i)\r\n",
        "\r\n",
        "\r\n",
        "correct_prediction = tf.equal(tf.argmax(y,1), tf.argmax(y_,1))\r\n",
        "accuracy = tf.reduce_mean(tf.cast(correct_prediction, tf.float32))\r\n",
        "print(sess.run(accuracy, feed_dict={x: test_data, y_: test_states}))\r\n",
        "\r\n",
        "\r\n",
        "plt.margins(x=0.5, y=0.0)   # Values in (-0.5, 0.0) zooms in to center\r\n",
        "x_axis = np.arange(0, len(loss_list),1)\r\n",
        "plt.plot(x_axis, loss_list)\r\n",
        "plt.show()\r\n",
        "\r\n",
        "\r\n"
      ],
      "execution_count": 19,
      "outputs": [
        {
          "output_type": "stream",
          "text": [
            "            VX        VY  ...  Range_Left             State\n",
            "5268  0.315260 -0.054090  ...    8.378806      State.normal\n",
            "5373  0.301282 -0.104406  ...   10.431355      State.normal\n",
            "5780  0.373248  0.041287  ...    7.404158      State.normal\n",
            "301  -0.053551  0.015319  ...   13.261593      State.normal\n",
            "4104  0.303904 -0.068949  ...    9.751291      State.normal\n",
            "...        ...       ...  ...         ...               ...\n",
            "3688  0.477938  0.021574  ...    1.406926   State.emergency\n",
            "3390  0.737682 -0.345988  ...    0.298726   State.emergency\n",
            "4259  0.535319  0.038306  ...    3.107553      State.normal\n",
            "6153  0.332384  0.200120  ...    2.926423        State.safe\n",
            "1615  0.314070 -0.009077  ...   -1.000000      State.normal\n",
            "\n",
            "[6326 rows x 6 columns]\n",
            "Iteration: 0  loss: 1.0878245\n",
            "Iteration: 100  loss: 0.8072341\n",
            "Iteration: 200  loss: 0.78229976\n",
            "Iteration: 300  loss: 0.7724892\n",
            "Iteration: 400  loss: 0.7667595\n",
            "Iteration: 500  loss: 0.76280713\n",
            "Iteration: 600  loss: 0.759768\n",
            "Iteration: 700  loss: 0.75724965\n",
            "Iteration: 800  loss: 0.755054\n",
            "Iteration: 900  loss: 0.75307345\n",
            "Iteration: 1000  loss: 0.7512461\n",
            "Iteration: 1100  loss: 0.7495342\n",
            "Iteration: 1200  loss: 0.747914\n",
            "Iteration: 1300  loss: 0.7463695\n",
            "Iteration: 1400  loss: 0.74488974\n",
            "Iteration: 1500  loss: 0.7434668\n",
            "Iteration: 1600  loss: 0.7420947\n",
            "Iteration: 1700  loss: 0.7407686\n",
            "Iteration: 1800  loss: 0.73948485\n",
            "Iteration: 1900  loss: 0.73824024\n",
            "Iteration: 2000  loss: 0.7370322\n",
            "Iteration: 2100  loss: 0.7358582\n",
            "Iteration: 2200  loss: 0.7347163\n",
            "Iteration: 2300  loss: 0.7336047\n",
            "Iteration: 2400  loss: 0.73252183\n",
            "Iteration: 2500  loss: 0.73146605\n",
            "Iteration: 2600  loss: 0.7304361\n",
            "Iteration: 2700  loss: 0.7294306\n",
            "Iteration: 2800  loss: 0.7284486\n",
            "Iteration: 2900  loss: 0.727489\n",
            "Iteration: 3000  loss: 0.7265508\n",
            "Iteration: 3100  loss: 0.7256331\n",
            "Iteration: 3200  loss: 0.72473496\n",
            "Iteration: 3300  loss: 0.72385573\n",
            "Iteration: 3400  loss: 0.72299457\n",
            "Iteration: 3500  loss: 0.7221508\n",
            "Iteration: 3600  loss: 0.7213238\n",
            "Iteration: 3700  loss: 0.7205129\n",
            "Iteration: 3800  loss: 0.71971756\n",
            "Iteration: 3900  loss: 0.7189372\n",
            "Iteration: 4000  loss: 0.7181712\n",
            "Iteration: 4100  loss: 0.71741927\n",
            "Iteration: 4200  loss: 0.7166807\n",
            "Iteration: 4300  loss: 0.7159552\n",
            "Iteration: 4400  loss: 0.7152422\n",
            "Iteration: 4500  loss: 0.71454144\n",
            "Iteration: 4600  loss: 0.71385235\n",
            "Iteration: 4700  loss: 0.7131747\n",
            "Iteration: 4800  loss: 0.7125081\n",
            "Iteration: 4900  loss: 0.71185213\n",
            "0.6603476\n"
          ],
          "name": "stdout"
        },
        {
          "output_type": "display_data",
          "data": {
            "image/png": "[encoded data removed]",
            "text/plain": [
              "<Figure size 432x288 with 1 Axes>"
            ]
          },
          "metadata": {
            "tags": [],
            "needs_background": "light"
          }
        }
      ]
    },
    {
      "cell_type": "markdown",
      "metadata": {
        "id": "3kBpqCqYPBhC"
      },
      "source": [
        "# NN with softmax and Adam Optimizer"
      ]
    },
    {
      "cell_type": "code",
      "metadata": {
        "colab": {
          "base_uri": "https://localhost:8080/",
          "height": 1000
        },
        "id": "dcCVDGyuXZWK",
        "outputId": "967e6574-4c63-4480-f156-b16fd45f818b"
      },
      "source": [
        "\r\n",
        "# good values itr = 100000 ,learing_rate = 0.0009\r\n",
        "\r\n",
        "hidden1_size, hidden2_size = 15, 9\r\n",
        "deep_loss_list =[]\r\n",
        "file_name = \"comb.csv\"\r\n",
        "\r\n",
        "\r\n",
        "\r\n",
        "# one_hot = tf.one_hot(category_indices, unique_category_count) #tensorflow way\r\n",
        "\r\n",
        "all_data_list = [\"VX\", \"VY\", \"Range_Front\",\"Range_Right\",\"Range_Left\",\"State\"]  # define columns to read  from csv TODO add left\r\n",
        "feature_list = [\"VX\", \"VY\", \"Range_Front\", \"Range_Right\", \"Range_Left\"]\r\n",
        "predict_list = [\"State\"]\r\n",
        "\r\n",
        "df_data = pd.read_csv(file_name, usecols=all_data_list)  # read the collums from the defind col_list\r\n",
        "df_data = df_data.sample(frac=1) # random the rows\r\n",
        "one_hot_state = pd.get_dummies(df_data[\"State\"])  # transform the data to be predicted to one hot\r\n",
        "state = one_hot_state.to_numpy()  # make a numpy array of states\r\n",
        "feature = df_data[feature_list]\r\n",
        "\r\n",
        "\r\n",
        "# np.random.shuffle(data)\r\n",
        "# np.random.shuffle(state)\r\n",
        "\r\n",
        "print(state)\r\n",
        "\r\n",
        "#state = np.random.shuffle(state)\r\n",
        "\r\n",
        "(train_data, test_data) = split_train_test(feature)\r\n",
        "(train_states,test_states) = split_train_test(state)\r\n",
        "\r\n",
        "# front_arr = np.array([front]) if i wont ro predict by one line only need to convert it to a 2d array\r\n",
        "\r\n",
        "labels_amount =  len(state[0]) # the amount of labels , to be predicted\r\n",
        "features_amount = len(feature_list) # The amount of data that the prediction is going to be made on (raw data)\r\n",
        "learing_rate = 1e-4\r\n",
        "#AdamOptimizer\r\n",
        "\r\n",
        "\r\n",
        "x = tf.placeholder(tf.float32, (None, features_amount))\r\n",
        "y_ = tf.placeholder(tf.float32, (None, labels_amount))\r\n",
        "W1 = tf.Variable(tf.truncated_normal([features_amount, hidden1_size], stddev=0.1))\r\n",
        "b1 = tf.Variable(tf.constant(0.1, shape=[hidden1_size]))\r\n",
        "z1 = tf.nn.relu(tf.matmul(x,W1)+b1)\r\n",
        "W2 = tf.Variable(tf.truncated_normal([hidden1_size, hidden2_size], stddev=0.1))\r\n",
        "b2 = tf.Variable(tf.constant(0.1, shape=[hidden2_size]))\r\n",
        "z2 = tf.nn.relu(tf.matmul(z1,W2)+b2)\r\n",
        "W3 = tf.Variable(tf.truncated_normal([hidden2_size, labels_amount], stddev=0.1))\r\n",
        "b3 = tf.Variable(tf.constant(0.1, shape=[labels_amount]))\r\n",
        "y = tf.nn.softmax(tf.matmul(z2, W3) + b3)\r\n",
        "cross_entropy = tf.reduce_mean(-tf.reduce_sum(y_ * tf.log(y), reduction_indices=[1]))\r\n",
        "z = tf.matmul(z2, W3) + b3\r\n",
        "loss = tf.reduce_mean(tf.nn.softmax_cross_entropy_with_logits_v2(y_, z))\r\n",
        "\r\n",
        "#Best result Iteration: 899900 loss: 0.020082667 accuracy is : 0.971564\r\n",
        "\r\n",
        "# W = tf.Variable(tf.zeros((features_amount, labels_amount)))\r\n",
        "# b = tf.Variable(tf.zeros((labels_amount)))  # TODO change it to tf.random.uniform\r\n",
        "# y = tf.nn.softmax(tf.matmul(x, W) + b)\r\n",
        "\r\n",
        "#loss = tf.reduce_mean(tf.nn.softmax_cross_entropy_with_logits_v2(labels=y_, logits=x)) #TODO try this\r\n",
        "\r\n",
        "train_step = tf.train.AdamOptimizer(learing_rate).minimize(loss)\r\n",
        "init = tf.global_variables_initializer()\r\n",
        "sess = tf.Session()\r\n",
        "sess.run(init)\r\n",
        "\r\n",
        "\r\n",
        "\r\n",
        "def show_progress(i):\r\n",
        "    print('Iteration:', i, ' loss:',cross_entropy.eval(session=sess, feed_dict={x: train_data, y_: train_states}))\r\n",
        "\r\n",
        "\r\n",
        "for i in range(5000):# change this to 900000 for the best result \r\n",
        "    curr_loss = loss.eval(session=sess, feed_dict={x: train_data, y_: train_states})\r\n",
        "    deep_loss_list.append(curr_loss)\r\n",
        "    sess.run(train_step, feed_dict={x: train_data, y_: train_states})  # BGD\r\n",
        "    if i %100 ==0 :\r\n",
        "        show_progress(i)\r\n",
        "\r\n",
        "\r\n",
        "correct_prediction = tf.equal(tf.argmax(y,1), tf.argmax(y_,1))\r\n",
        "accuracy = tf.reduce_mean(tf.cast(correct_prediction, tf.float32))\r\n",
        "print(\"accuracy is :\",sess.run(accuracy, feed_dict={x: test_data, y_: test_states}))\r\n",
        "\r\n",
        "font = {'family': 'serif',\r\n",
        "        'color':  'red',\r\n",
        "        'weight': 'normal',\r\n",
        "        'size': 16,\r\n",
        "        }\r\n",
        "plt.title('Final Result ', fontdict=font)\r\n",
        "plt.text(2, 0.65, r'nn and simple softmax', fontdict=font)\r\n",
        "plt.xlabel('epochs', fontdict=font)\r\n",
        "plt.ylabel('loss', fontdict=font)\r\n",
        "x_axis = np.arange(0, len(loss_list),1)\r\n",
        "deep_x_axis = np.arange(0, len(deep_loss_list),1)\r\n",
        "plt.margins(x=0.3, y=0.0)   # Values in (-0.5, 0.0) zooms in to center\r\n",
        "plt.plot(deep_x_axis, deep_loss_list,x_axis,loss_list)\r\n",
        "plt.show()\r\n",
        "\r\n",
        "\r\n",
        "\r\n",
        "#Cannot feed value of shape (2175,) for Tensor 'Placeholder:0', which has shape '(?, 3)'"
      ],
      "execution_count": 20,
      "outputs": [
        {
          "output_type": "stream",
          "text": [
            "[[0 1 0]\n",
            " [0 1 0]\n",
            " [0 1 0]\n",
            " ...\n",
            " [0 1 0]\n",
            " [0 0 1]\n",
            " [0 1 0]]\n",
            "Iteration: 0  loss: 1.1185554\n",
            "Iteration: 100  loss: 1.0716476\n",
            "Iteration: 200  loss: 1.0226096\n",
            "Iteration: 300  loss: 0.9710792\n",
            "Iteration: 400  loss: 0.92003304\n",
            "Iteration: 500  loss: 0.8717914\n",
            "Iteration: 600  loss: 0.83074003\n",
            "Iteration: 700  loss: 0.8041902\n",
            "Iteration: 800  loss: 0.7845623\n",
            "Iteration: 900  loss: 0.7682699\n",
            "Iteration: 1000  loss: 0.7539201\n",
            "Iteration: 1100  loss: 0.7407598\n",
            "Iteration: 1200  loss: 0.7283169\n",
            "Iteration: 1300  loss: 0.7162427\n",
            "Iteration: 1500  loss: 0.6932786\n",
            "Iteration: 1600  loss: 0.6824306\n",
            "Iteration: 1700  loss: 0.6718346\n",
            "Iteration: 1800  loss: 0.6613322\n",
            "Iteration: 1900  loss: 0.6509689\n",
            "Iteration: 2000  loss: 0.64060205\n",
            "Iteration: 2100  loss: 0.6306784\n",
            "Iteration: 2200  loss: 0.6212415\n",
            "Iteration: 2300  loss: 0.6124709\n",
            "Iteration: 2400  loss: 0.6043341\n",
            "Iteration: 2500  loss: 0.59640557\n",
            "Iteration: 2600  loss: 0.58906\n",
            "Iteration: 2700  loss: 0.5823631\n",
            "Iteration: 2800  loss: 0.57625294\n",
            "Iteration: 2900  loss: 0.5707204\n",
            "Iteration: 3000  loss: 0.5657629\n",
            "Iteration: 3100  loss: 0.56108844\n",
            "Iteration: 3200  loss: 0.55663484\n",
            "Iteration: 3300  loss: 0.5525792\n",
            "Iteration: 3400  loss: 0.548799\n",
            "Iteration: 3500  loss: 0.5451909\n",
            "Iteration: 3600  loss: 0.5416914\n",
            "Iteration: 3700  loss: 0.5382681\n",
            "Iteration: 3800  loss: 0.5349629\n",
            "Iteration: 3900  loss: 0.53162545\n",
            "Iteration: 4000  loss: 0.5282989\n",
            "Iteration: 4100  loss: 0.52508116\n",
            "Iteration: 4200  loss: 0.5219445\n",
            "Iteration: 4300  loss: 0.5188707\n",
            "Iteration: 4400  loss: 0.51596737\n",
            "Iteration: 4500  loss: 0.51312226\n",
            "Iteration: 4600  loss: 0.5103839\n",
            "Iteration: 4700  loss: 0.5075897\n",
            "Iteration: 4800  loss: 0.50452125\n",
            "Iteration: 4900  loss: 0.5015212\n",
            "accuracy is : 0.77488154\n"
          ],
          "name": "stdout"
        },
        {
          "output_type": "display_data",
          "data": {
            "image/png": "[encoded data removed]",
            "text/plain": [
              "<Figure size 432x288 with 1 Axes>"
            ]
          },
          "metadata": {
            "tags": [],
            "needs_background": "light"
          }
        }
      ]
    },
    {
      "cell_type": "markdown",
      "metadata": {
        "id": "j-OS9VQeV7bW"
      },
      "source": [
        "# Save the weights "
      ]
    },
    {
      "cell_type": "code",
      "metadata": {
        "colab": {
          "base_uri": "https://localhost:8080/",
          "height": 35
        },
        "id": "ryZ6sPWCOtQZ",
        "outputId": "a192dbde-fe1c-4c02-f546-bc069e74ebcb"
      },
      "source": [
        "#assert False# This stops 'Run all' at this cell by causing an error\r\n",
        "filename = \"deep_drone_weights.tf\"\r\n",
        "saver = tf.train.Saver()\r\n",
        "saver.save(sess, filename)"
      ],
      "execution_count": 22,
      "outputs": [
        {
          "output_type": "execute_result",
          "data": {
            "application/vnd.google.colaboratory.intrinsic+json": {
              "type": "string"
            },
            "text/plain": [
              "'deep_drone_weights.tf'"
            ]
          },
          "metadata": {
            "tags": []
          },
          "execution_count": 22
        }
      ]
    },
    {
      "cell_type": "markdown",
      "metadata": {
        "id": "p4oc3hXxgXvn"
      },
      "source": [
        "#Summary \r\n",
        "\r\n",
        "The nn works better even with the same number of epochs \r\n",
        "from 10,000 and beyond in my case.\r\n",
        "Also, Adam Optimizer dramatically increased the learning speed.\r\n",
        "one more thing I learned is it's very important to use softmax_cross_entropy_with_logits_v2 instead of the croos_entropy because I had a numerical issue with cross_entropy.\r\n",
        "\r\n",
        "Iteration: 899900  loss: 0.020082667\r\n",
        "accuracy is : 0.971564\r\n",
        "\r\n",
        "The best accuracy I achieved is: 0.971564 witch is not bad in my opinion. \r\n",
        " \r\n",
        "\r\n"
      ]
    }
  ]
}